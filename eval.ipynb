{
 "cells": [
  {
   "cell_type": "code",
   "execution_count": 74,
   "metadata": {
    "id": "Uk3gLb8CKpsG"
   },
   "outputs": [],
   "source": [
    "import numpy as np\n",
    "import sympy as sp\n",
    "sp.init_printing()"
   ]
  },
  {
   "cell_type": "code",
   "execution_count": 75,
   "metadata": {
    "id": "hvv12rdfp3n_"
   },
   "outputs": [],
   "source": [
    "def calculate_chrst_sym_4d(metric, inv_metric):\n",
    "  #Calculate the christoffel symbols for a given metric\n",
    "\n",
    "  #instantiate variables\n",
    "  t0, t1, t2, t3 = sp.symbols('t0 t1 t2 t3') \n",
    "\n",
    "\n",
    "  chrst = np.zeros((4, 4, 4), dtype = type(sp.sin(t3))) #empty array to put our christoffel symbols\n",
    "\n",
    "  for index, val in np.ndenumerate(chrst):\n",
    "\n",
    "    mod_chrst = 0\n",
    "\n",
    "    #making indicies the same as our computational formula\n",
    "\n",
    "    k = index[0]\n",
    "    i = index[1]\n",
    "    j = index[2]\n",
    "\n",
    "\n",
    "    for m in range(4):\n",
    "      mod_chrst = mod_chrst + .5 * inv_metric[k][m] * (\n",
    "          sp.diff(metric[m][i], 't' + str(j)) + sp.diff(metric[m][j], 't' + str(i)) - sp.diff(metric[i][j], 't' + str(m))\n",
    "      )\n",
    "\n",
    "\n",
    "    chrst[k][i][j] = mod_chrst\n",
    "\n",
    "  return chrst"
   ]
  },
  {
   "cell_type": "code",
   "execution_count": 76,
   "metadata": {},
   "outputs": [],
   "source": [
    "from sympy.stats import E\n",
    "\n",
    "def sym_cub_tensor(der):\n",
    "    #symmetric cubic tensor given n derivatives\n",
    "    \n",
    "    n = len(der)    \n",
    "    return_mat = np.zeros((n,n,n), dtype = 'object')\n",
    "    \n",
    "    for k in range(n):\n",
    "        for i in range(n):\n",
    "            for j in range(n):\n",
    "                return_mat[k][i][j] = sp.simplify(E(der[k] * der[i] * der[j]))\n",
    "    \n",
    "    return return_mat"
   ]
  },
  {
   "cell_type": "code",
   "execution_count": 93,
   "metadata": {},
   "outputs": [],
   "source": [
    "def find_alpha_chrst(chrst, tijks, alpha):\n",
    "    #finds alpha christoffel symbols\n",
    "    return chrst + alpha * tijks"
   ]
  },
  {
   "cell_type": "code",
   "execution_count": 78,
   "metadata": {},
   "outputs": [],
   "source": [
    "def alpha_curvature_tensor(alpha_chrsts):\n",
    "    #finds standard curvature\n",
    "    \n",
    "    varis = [t0,t1,t2,t3]\n",
    "    \n",
    "    alpha_curve_tensor_arr = np.zeros((4,4,4,4), dtype = 'object')\n",
    "    \n",
    "    for l in range(4):\n",
    "        for i in range(4):\n",
    "            for j in range(4):\n",
    "                for k in range(4):\n",
    "                    pre_sum = sp.diff(alpha_chrsts[l][i][k], varis[j]) - sp.diff(alpha_chrsts[l][j][k], varis[i])\n",
    "                    for p in range(4):\n",
    "                        pre_sum += alpha_chrsts[p][i][k] * alpha_chrsts[l][j][p] \\\n",
    "                        - alpha_chrsts[p][j][k] * alpha_chrsts[l][i][p]\n",
    "                    alpha_curve_tensor_arr[l][i][j][k] = sp.simplify(pre_sum)\n",
    "    \n",
    "    return alpha_curve_tensor_arr"
   ]
  },
  {
   "cell_type": "code",
   "execution_count": 79,
   "metadata": {},
   "outputs": [],
   "source": [
    "def curvature_components(curv_tens, metric):\n",
    "    #finds curvature components\n",
    "    \n",
    "    n = np.shape(curv_tens)[0]\n",
    "    \n",
    "    return_arr = np.zeros((n,n,n,n), dtype = 'object')\n",
    "    \n",
    "    for index, val in np.ndenumerate(return_arr):\n",
    "        pre_sum = 0\n",
    "        for s in range(n):\n",
    "            pre_sum += curv_tens[s][index[1]][index[2]][index[3]] * metric[index[3]][s]\n",
    "        return_arr[index[0]][index[1]][index[2]][index[3]] = pre_sum\n",
    "        \n",
    "    return return_arr"
   ]
  },
  {
   "cell_type": "code",
   "execution_count": 65,
   "metadata": {
    "id": "KBO53ycxpVV2"
   },
   "outputs": [],
   "source": [
    "#creating variables for use\n",
    "\n",
    "t0 = sp.Symbol('t0', real=True)\n",
    "t1 = sp.Symbol('t1', positive = True)\n",
    "t2 = sp.Symbol('t2', real=True)\n",
    "t3 = sp.Symbol('t3', positive = True)\n",
    "\n",
    "from sympy.stats import Normal\n",
    "\n",
    "x, y = Normal('x', t0, t1), Normal('y', t2, t3)"
   ]
  },
  {
   "cell_type": "code",
   "execution_count": 80,
   "metadata": {},
   "outputs": [],
   "source": [
    "#S2 x S2 metric from bad papper\n",
    "\n",
    "s22_met = np.zeros((4,4), dtype = 'object')\n",
    "s22_met[0][0] = 1\n",
    "s22_met[1][1] = sp.sin(t0) ** 2\n",
    "s22_met[2][2] = 1\n",
    "s22_met[3][3] = sp.sin(t2) ** 2"
   ]
  },
  {
   "cell_type": "code",
   "execution_count": 81,
   "metadata": {},
   "outputs": [],
   "source": [
    "#S2 x S2 inverse metric from bad papper\n",
    "\n",
    "s22_inv_met = np.zeros((4,4), dtype = 'object')\n",
    "s22_inv_met[0][0] = 1\n",
    "s22_inv_met[1][1] = sp.sin(t0) ** (-2)\n",
    "s22_inv_met[2][2] = 1\n",
    "s22_inv_met[3][3] = sp.sin(t2) ** (-2)"
   ]
  },
  {
   "cell_type": "code",
   "execution_count": 82,
   "metadata": {},
   "outputs": [],
   "source": [
    "#H x H metric\n",
    "\n",
    "h22_met = np.zeros((4,4), dtype = 'object')\n",
    "h22_met[0][0] = 1\n",
    "h22_met[1][1] = 1 / t1\n",
    "h22_met[2][2] = 1\n",
    "h22_met[3][3] = 1 / t3"
   ]
  },
  {
   "cell_type": "code",
   "execution_count": 86,
   "metadata": {},
   "outputs": [],
   "source": [
    "#H x H inverse metric\n",
    "\n",
    "h22_inv_met = np.zeros((4,4), dtype = 'object')\n",
    "h22_inv_met[0][0] = 1\n",
    "h22_inv_met[1][1] = t1\n",
    "h22_inv_met[2][2] = 1\n",
    "h22_inv_met[3][3] = t3"
   ]
  },
  {
   "cell_type": "code",
   "execution_count": 87,
   "metadata": {},
   "outputs": [],
   "source": [
    "#We perform step 3\n",
    "step_3_s22 = calculate_chrst_sym_4d(s22_met, s22_inv_met)\n",
    "\n",
    "step_3_h22 = calculate_chrst_sym_4d(h22_met, h22_inv_met)"
   ]
  },
  {
   "cell_type": "code",
   "execution_count": 88,
   "metadata": {},
   "outputs": [],
   "source": [
    "#For step 4 we first define the derivatives\n",
    "\n",
    "der_1 = (x - t0) / (t1 ** 2)\n",
    "der_2 = (((x - t0) ** 2) / (t1 ** 3)) - 1 / t1\n",
    "#derivative take wrt variance\n",
    "#der_2 = (((x - t0) ** 2) / (2 * (t1 ** 4))) - 1 /(2 * t1 ** 2)\n",
    "der_3 = (y - t2) / (t3 ** 2)\n",
    "der_4 = (((y - t2) ** 2) / (t3 ** 3)) - 1 / t3\n",
    "#der_4 = (((y - t2) ** 2) / (2 * (t3 ** 4))) - 1 /(2 * t3 ** 2)\n",
    "\n",
    "der_list = [der_1,der_2,der_3,der_4]"
   ]
  },
  {
   "cell_type": "code",
   "execution_count": 91,
   "metadata": {},
   "outputs": [],
   "source": [
    "#Step 4 calculation\n",
    "#try to not run this cell multiple times\n",
    "step_4_tensor = sym_cub_tensor(der_list)"
   ]
  },
  {
   "cell_type": "code",
   "execution_count": 94,
   "metadata": {},
   "outputs": [],
   "source": [
    "step_5_arr_pos1 = find_alpha_chrst(step_3_h22, step_4_tensor, 1)\n",
    "step_5_arr_neg1 = find_alpha_chrst(step_3_h22, step_4_tensor, -1)"
   ]
  },
  {
   "cell_type": "code",
   "execution_count": 96,
   "metadata": {},
   "outputs": [],
   "source": [
    "step_6_arr_pos1 = alpha_curvature_tensor(step_5_arr_pos1)\n",
    "step_6_arr_neg1 = alpha_curvature_tensor(step_5_arr_neg1)"
   ]
  },
  {
   "cell_type": "code",
   "execution_count": 58,
   "metadata": {},
   "outputs": [],
   "source": [
    "step_7_arr = curvature_components(step_6_arr, new_s_met)"
   ]
  }
 ],
 "metadata": {
  "colab": {
   "provenance": []
  },
  "kernelspec": {
   "display_name": "Python 3 (ipykernel)",
   "language": "python",
   "name": "python3"
  },
  "language_info": {
   "codemirror_mode": {
    "name": "ipython",
    "version": 3
   },
   "file_extension": ".py",
   "mimetype": "text/x-python",
   "name": "python",
   "nbconvert_exporter": "python",
   "pygments_lexer": "ipython3",
   "version": "3.9.13"
  }
 },
 "nbformat": 4,
 "nbformat_minor": 1
}
