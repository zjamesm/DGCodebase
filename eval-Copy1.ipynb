{
 "cells": [
  {
   "cell_type": "code",
   "execution_count": 3,
   "metadata": {
    "id": "Uk3gLb8CKpsG"
   },
   "outputs": [],
   "source": [
    "import numpy as np\n",
    "import sympy as sp\n",
    "sp.init_printing()"
   ]
  },
  {
   "cell_type": "code",
   "execution_count": 6,
   "metadata": {
    "id": "hvv12rdfp3n_"
   },
   "outputs": [],
   "source": [
    "def calculate_chrst_sym_4d(metric, inv_metric, derivs = [t0,t1,t2,t3]):\n",
    "    #Calculate the christoffel symbols for a given metric\n",
    "    \n",
    "    #used to take deriv by correct variable\n",
    "    deriv_list = derivs\n",
    "\n",
    "    #empty array to put our christoffel symbols\n",
    "    chrst = np.zeros((4, 4, 4), dtype = 'object') \n",
    "    \n",
    "    for k in range(4):\n",
    "        for i in range(4):\n",
    "            for j in range(4):\n",
    "                pre_sum = 0\n",
    "                for m in range(4):\n",
    "                    pre_sum += .5 * inv_metric[k][m] * (\n",
    "                      sp.diff(metric[m][i], deriv_list[j]) + sp.diff(metric[m][j], deriv_list[i]) - sp.diff(metric[i][j], deriv_list[m])\n",
    "                    )\n",
    "                chrst[i,j,k] = pre_sum\n",
    "\n",
    "    return chrst"
   ]
  },
  {
   "cell_type": "code",
   "execution_count": 7,
   "metadata": {},
   "outputs": [],
   "source": [
    "from sympy.stats import E\n",
    "\n",
    "def sym_cub_tensor(der):\n",
    "    #symmetric cubic tensor given n derivatives\n",
    "    \n",
    "    n = len(der)    \n",
    "    return_mat = np.zeros((n,n,n), dtype = 'object')\n",
    "    \n",
    "    for k in range(n):\n",
    "        for i in range(n):\n",
    "            for j in range(n):\n",
    "                return_mat[i,j,k] = sp.simplify(E(der[k] * der[i] * der[j]))\n",
    "    \n",
    "    return return_mat"
   ]
  },
  {
   "cell_type": "code",
   "execution_count": 8,
   "metadata": {},
   "outputs": [],
   "source": [
    "def find_alpha_chrst(chrst, tijks, alpha):\n",
    "    #finds alpha christoffel symbols\n",
    "    return chrst + (alpha / 2) * tijks"
   ]
  },
  {
   "cell_type": "code",
   "execution_count": 44,
   "metadata": {},
   "outputs": [],
   "source": [
    "def alpha_curvature_tensor(alpha_chrsts):\n",
    "    #finds standard curvature\n",
    "    \n",
    "    varis = [t0,t1,t2,t3]\n",
    "    \n",
    "    alpha_curve_tensor_arr = np.zeros((4,4,4,4), dtype = 'object')\n",
    "    \n",
    "    for l in range(4):\n",
    "        for i in range(4):\n",
    "            for j in range(4):\n",
    "                for k in range(4):\n",
    "                    pre_sum = sp.diff(alpha_chrsts[i][k][l], varis[j]) - sp.diff(alpha_chrsts[j][k][l], varis[i])\n",
    "                    for p in range(4):\n",
    "                        pre_sum += alpha_chrsts[i][k][p] * alpha_chrsts[j][p][l] - alpha_chrsts[j][k][p] * alpha_chrsts[i][p][l]\n",
    "                    alpha_curve_tensor_arr[i][j][k][l] = sp.simplify(pre_sum)\n",
    "    \n",
    "    return alpha_curve_tensor_arr"
   ]
  },
  {
   "cell_type": "code",
   "execution_count": 41,
   "metadata": {},
   "outputs": [],
   "source": [
    "def curvature_components(curv_tens, metric):\n",
    "    #finds curvature components\n",
    "    \n",
    "    n = np.shape(curv_tens)[0]\n",
    "    \n",
    "    return_arr = np.zeros((n,n,n,n), dtype = 'object')\n",
    "    \n",
    "    for i in range(4):\n",
    "        for j in range(4):\n",
    "            for k in range(4):\n",
    "                for l in range(4):\n",
    "                    pre_sum = 0\n",
    "                    for s in range(4):\n",
    "                        pre_sum += curv_tens[i,j,k,l] * metric[l,s]\n",
    "                    return_arr[i,j,k,l] = pre_sum\n",
    "        \n",
    "    return return_arr"
   ]
  },
  {
   "cell_type": "code",
   "execution_count": 61,
   "metadata": {},
   "outputs": [],
   "source": [
    "def curvature_numerator(comps):\n",
    "    #finds the numerator of the value of the curvature\n",
    "    \n",
    "    #creating vector terms\n",
    "    u0, u1, u2, u3 = sp.symbols('u1 u2 u3 u4')\n",
    "    \n",
    "    v0, v1, v2, v3 = sp.symbols('v1:5')\n",
    "    \n",
    "    u_list = [u0, u1, u2, u3]\n",
    "    v_list = [v0, v1, v2, v3]\n",
    "    \n",
    "    pre_sum = 0\n",
    "    \n",
    "    for j in range(4):\n",
    "        for i in range(4):\n",
    "            for l in range(4):\n",
    "                for k in range(4):\n",
    "                    sporting = v_list[j] * u_list[i] * comps[i,j,k,l] * u_list[l] * v_list[k]\n",
    "                    pre_sum += sporting\n",
    "                    #error could be above, lk are swapped from curvature tensor to formula\n",
    "    \n",
    "    return pre_sum"
   ]
  },
  {
   "cell_type": "code",
   "execution_count": 14,
   "metadata": {
    "id": "KBO53ycxpVV2"
   },
   "outputs": [],
   "source": [
    "#creating variables for use\n",
    "\n",
    "t0 = sp.Symbol('t0', real=True)\n",
    "t1 = sp.Symbol('t1', positive = True)\n",
    "t2 = sp.Symbol('t2', real=True)\n",
    "t3 = sp.Symbol('t3', positive = True)\n",
    "\n",
    "from sympy.stats import Normal\n",
    "\n",
    "x, y = Normal('x', t0, t1), Normal('y', t2, t3)"
   ]
  },
  {
   "cell_type": "code",
   "execution_count": 16,
   "metadata": {},
   "outputs": [],
   "source": [
    "#S2 x S2 metric from bad paper\n",
    "\n",
    "s22_met = np.zeros((4,4), dtype = 'object')\n",
    "s22_met[0][0] = 1\n",
    "s22_met[1][1] = sp.sin(t0) ** 2\n",
    "s22_met[2][2] = 1\n",
    "s22_met[3][3] = sp.sin(t2) ** 2"
   ]
  },
  {
   "cell_type": "code",
   "execution_count": 17,
   "metadata": {},
   "outputs": [],
   "source": [
    "#S2 x S2 inverse metric from bad paper\n",
    "\n",
    "s22_inv_met = np.zeros((4,4), dtype = 'object')\n",
    "s22_inv_met[0][0] = 1\n",
    "s22_inv_met[1][1] = sp.sin(t0) ** (-2)\n",
    "s22_inv_met[2][2] = 1\n",
    "s22_inv_met[3][3] = sp.sin(t2) ** (-2)"
   ]
  },
  {
   "cell_type": "code",
   "execution_count": 18,
   "metadata": {},
   "outputs": [],
   "source": [
    "#H x H metric\n",
    "\n",
    "h22_met = np.zeros((4,4), dtype = 'object')\n",
    "h22_met[0][0] = 1\n",
    "h22_met[1][1] = 1 / t1\n",
    "h22_met[2][2] = 1\n",
    "h22_met[3][3] = 1 / t3"
   ]
  },
  {
   "cell_type": "code",
   "execution_count": 19,
   "metadata": {},
   "outputs": [],
   "source": [
    "#H x H inverse metric\n",
    "\n",
    "h22_inv_met = np.zeros((4,4), dtype = 'object')\n",
    "h22_inv_met[0][0] = 1\n",
    "h22_inv_met[1][1] = t1\n",
    "h22_inv_met[2][2] = 1\n",
    "h22_inv_met[3][3] = t3"
   ]
  },
  {
   "cell_type": "code",
   "execution_count": 29,
   "metadata": {},
   "outputs": [
    {
     "data": {
      "text/plain": [
       "array([[[0, 0, 0, 0],\n",
       "        [0, 1.0*cos(t0)/sin(t0), 0, 0],\n",
       "        [0, 0, 0, 0],\n",
       "        [0, 0, 0, 0]],\n",
       "\n",
       "       [[0, 1.0*cos(t0)/sin(t0), 0, 0],\n",
       "        [-1.0*sin(t0)*cos(t0), 0, 0, 0],\n",
       "        [0, 0, 0, 0],\n",
       "        [0, 0, 0, 0]],\n",
       "\n",
       "       [[0, 0, 0, 0],\n",
       "        [0, 0, 0, 0],\n",
       "        [0, 0, 0, 0],\n",
       "        [0, 0, 0, 1.0*cos(t2)/sin(t2)]],\n",
       "\n",
       "       [[0, 0, 0, 0],\n",
       "        [0, 0, 0, 0],\n",
       "        [0, 0, 0, 1.0*cos(t2)/sin(t2)],\n",
       "        [0, 0, -1.0*sin(t2)*cos(t2), 0]]], dtype=object)"
      ]
     },
     "execution_count": 29,
     "metadata": {},
     "output_type": "execute_result"
    }
   ],
   "source": [
    "#We perform step 3\n",
    "step_3_s22 = calculate_chrst_sym_4d(s22_met, s22_inv_met)\n",
    "step_3_s22\n",
    "# step_3_h22 = calculate_chrst_sym_4d(h22_met, h22_inv_met)"
   ]
  },
  {
   "cell_type": "code",
   "execution_count": 21,
   "metadata": {},
   "outputs": [],
   "source": [
    "#For step 4 we first define the derivatives\n",
    "\n",
    "der_1 = (x - t0) / (t1 ** 2)\n",
    "der_2 = (((x - t0) ** 2) / (t1 ** 3)) - 1 / t1\n",
    "#derivative take wrt variance\n",
    "#der_2 = (((x - t0) ** 2) / (2 * (t1 ** 4))) - 1 /(2 * t1 ** 2)\n",
    "der_3 = (y - t2) / (t3 ** 2)\n",
    "der_4 = (((y - t2) ** 2) / (t3 ** 3)) - 1 / t3\n",
    "#der_4 = (((y - t2) ** 2) / (2 * (t3 ** 4))) - 1 /(2 * t3 ** 2)\n",
    "\n",
    "der_list = [der_1,der_2,der_3,der_4]"
   ]
  },
  {
   "cell_type": "code",
   "execution_count": null,
   "metadata": {},
   "outputs": [],
   "source": [
    "#Step 4 calculation\n",
    "#try to not run this cell multiple times\n",
    "step_4_tensor = sym_cub_tensor(der_list)"
   ]
  },
  {
   "cell_type": "code",
   "execution_count": null,
   "metadata": {},
   "outputs": [],
   "source": [
    "step_5_arr_pos1 = find_alpha_chrst(step_3_h22, step_4_tensor, 1)\n",
    "step_5_arr_neg1 = find_alpha_chrst(step_3_h22, step_4_tensor, -1)"
   ]
  },
  {
   "cell_type": "code",
   "execution_count": null,
   "metadata": {},
   "outputs": [],
   "source": [
    "step_6_arr_pos1 = alpha_curvature_tensor(step_5_arr_pos1)\n",
    "step_6_arr_neg1 = alpha_curvature_tensor(step_5_arr_neg1)"
   ]
  },
  {
   "cell_type": "code",
   "execution_count": 38,
   "metadata": {
    "scrolled": true
   },
   "outputs": [
    {
     "ename": "NameError",
     "evalue": "name 'step_6_arr_pos1' is not defined",
     "output_type": "error",
     "traceback": [
      "\u001b[1;31m---------------------------------------------------------------------------\u001b[0m",
      "\u001b[1;31mNameError\u001b[0m                                 Traceback (most recent call last)",
      "\u001b[1;32m~\\AppData\\Local\\Temp\\ipykernel_6272\\3623215336.py\u001b[0m in \u001b[0;36m<module>\u001b[1;34m\u001b[0m\n\u001b[1;32m----> 1\u001b[1;33m \u001b[0mstep_7_arr_pos1\u001b[0m \u001b[1;33m=\u001b[0m \u001b[0mcurvature_components\u001b[0m\u001b[1;33m(\u001b[0m\u001b[0mstep_6_arr_pos1\u001b[0m\u001b[1;33m,\u001b[0m \u001b[0ms22_met\u001b[0m\u001b[1;33m)\u001b[0m\u001b[1;33m\u001b[0m\u001b[1;33m\u001b[0m\u001b[0m\n\u001b[0m\u001b[0;32m      2\u001b[0m \u001b[1;33m\u001b[0m\u001b[0m\n\u001b[0;32m      3\u001b[0m \u001b[0mstep_7_arr_pos1\u001b[0m\u001b[1;33m\u001b[0m\u001b[1;33m\u001b[0m\u001b[0m\n",
      "\u001b[1;31mNameError\u001b[0m: name 'step_6_arr_pos1' is not defined"
     ]
    }
   ],
   "source": [
    "step_7_arr_pos1 = curvature_components(step_6_arr_pos1, s22_met)\n",
    "\n",
    "step_7_arr_pos1"
   ]
  },
  {
   "cell_type": "code",
   "execution_count": 49,
   "metadata": {},
   "outputs": [],
   "source": [
    "#doing alpha = 0 case\n",
    "#we have up to step 3, and will not be doing 4/5\n",
    "\n",
    "step_6_a0 = alpha_curvature_tensor(step_3_s22)"
   ]
  },
  {
   "cell_type": "code",
   "execution_count": 53,
   "metadata": {},
   "outputs": [],
   "source": [
    "step_7_a0 = curvature_components(step_6_a0, s22_met)"
   ]
  },
  {
   "cell_type": "code",
   "execution_count": 65,
   "metadata": {},
   "outputs": [],
   "source": [
    "step_8_a0 = curvature_numerator(step_7_a0)"
   ]
  }
 ],
 "metadata": {
  "colab": {
   "provenance": []
  },
  "kernelspec": {
   "display_name": "Python 3 (ipykernel)",
   "language": "python",
   "name": "python3"
  },
  "language_info": {
   "codemirror_mode": {
    "name": "ipython",
    "version": 3
   },
   "file_extension": ".py",
   "mimetype": "text/x-python",
   "name": "python",
   "nbconvert_exporter": "python",
   "pygments_lexer": "ipython3",
   "version": "3.9.13"
  }
 },
 "nbformat": 4,
 "nbformat_minor": 1
}
